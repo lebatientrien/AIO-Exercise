{
  "nbformat": 4,
  "nbformat_minor": 0,
  "metadata": {
    "colab": {
      "provenance": []
    },
    "kernelspec": {
      "name": "python3",
      "display_name": "Python 3"
    },
    "language_info": {
      "name": "python"
    }
  },
  "cells": [
    {
      "cell_type": "markdown",
      "source": [
        "Câu tự luận 1:"
      ],
      "metadata": {
        "id": "DfYKmbmnb1Is"
      }
    },
    {
      "cell_type": "code",
      "source": [
        "def calc_f1_score(tp, fp, fn):\n",
        "  # Check if value is valid: larger than Zero\n",
        "  if tp <= 0 or fp <= 0 or fn <= 0:\n",
        "    print (\"Error: All parameters must be greater than 0.\")\n",
        "    return\n",
        "  # Check if value is integer\n",
        "  if (isinstance(tp, int) or isinstance(fp, int) or isinstance(fn, int)) == False:\n",
        "    print (\"Error: All parameters must be integers.\")\n",
        "    return\n",
        "\n",
        "  # Process the value\n",
        "  precision = tp / (tp + fp)\n",
        "  recall = tp / (tp + fn)\n",
        "  f1_score = 2 * (precision * recall) / (precision + recall)\n",
        "\n",
        "  # Print out results\n",
        "  print('Precision is ', precision)\n",
        "  print('Recall is ', recall)\n",
        "  print('F1-Score is', f1_score)\n",
        "  return f1_score\n",
        "\n",
        "# Run the function\n",
        "calc_f1_score(tp=10, fp=2, fn=5)\n"
      ],
      "metadata": {
        "colab": {
          "base_uri": "https://localhost:8080/"
        },
        "id": "QOf7jHGjb95n",
        "outputId": "fbdd85c7-5faf-4fc9-d50e-392f18b9332f"
      },
      "execution_count": 62,
      "outputs": [
        {
          "output_type": "stream",
          "name": "stdout",
          "text": [
            "Precision is  0.8333333333333334\n",
            "Recall is  0.6666666666666666\n",
            "F1-Score is 0.7407407407407408\n"
          ]
        },
        {
          "output_type": "execute_result",
          "data": {
            "text/plain": [
              "0.7407407407407408"
            ]
          },
          "metadata": {},
          "execution_count": 62
        }
      ]
    },
    {
      "cell_type": "markdown",
      "source": [
        "Câu tự luận 2:"
      ],
      "metadata": {
        "id": "HuM2kRP5tWwF"
      }
    },
    {
      "cell_type": "code",
      "source": [
        "import math\n",
        "\n",
        "# Check if number or not\n",
        "def is_number(n):\n",
        "  try:\n",
        "    float(n)    # Type-casting the string to float\n",
        "                # If string is not a valid float\n",
        "                # it'll raise \"ValueError\" exception\n",
        "  except ValueError:\n",
        "    return False\n",
        "  return True\n",
        "\n",
        "# ReLU function\n",
        "def relu(x):\n",
        "  return max(0, x)\n",
        "\n",
        "# Sigmoid function\n",
        "def sigmoid(x):\n",
        "  return 1 / (1 + math.exp(-x))\n",
        "\n",
        "# Elu function\n",
        "def elu(x, alpha=0.01):\n",
        "  if x < 0:\n",
        "    return alpha * (math.exp(x) - 1)\n",
        "  else:\n",
        "    return x\n",
        "\n",
        "# Main program\n",
        "value = input(\"Enter a float number: \")\n",
        "if is_number(value):\n",
        "  # Convert string to float for later usage\n",
        "  value = float(value)\n",
        "\n",
        "  # Check User input want to calculate ReLU, ELU or Signmoid\n",
        "  chosen = input(\"Choose the activation function (sigmoid, relu or elu): \")\n",
        "  if chosen.lower() == \"sigmoid\":\n",
        "    print(f\"Sigmoid: f({value}) =\", sigmoid(value))\n",
        "  elif chosen.lower() == \"relu\":\n",
        "    print(f\"ReLU f({value}) =\", relu(value))\n",
        "  elif chosen.lower() == \"elu\":\n",
        "    print(f\"ELU f({value}) =\", elu(value))\n",
        "  else:\n",
        "    print(chosen, \" is not supported.\")\n",
        "\n",
        "else:\n",
        "  print(\"Please enter a valid number.\")\n"
      ],
      "metadata": {
        "id": "fCNardGocSik",
        "colab": {
          "base_uri": "https://localhost:8080/"
        },
        "outputId": "d5c491bb-0d0d-466c-a591-77173ea6d586"
      },
      "execution_count": 61,
      "outputs": [
        {
          "output_type": "stream",
          "name": "stdout",
          "text": [
            "Enter a float number: 1.342\n",
            "Choose the activation function (sigmoid, relu or elu): sigmoid\n",
            "Sigmoid: f(1.342) = 0.7928186483122006\n"
          ]
        }
      ]
    },
    {
      "cell_type": "markdown",
      "source": [
        "Câu tự luận 3:"
      ],
      "metadata": {
        "id": "Rw9m5B9Vtcl7"
      }
    },
    {
      "cell_type": "code",
      "source": [
        "import random\n",
        "import math\n",
        "\n",
        "# Check if sample number is valid (should be integer > 0)\n",
        "def isnumeric(num):\n",
        "  try:\n",
        "    num = int(num)  # Type-casting the string to int\n",
        "                    # If string is not a valid int\n",
        "                    # it'll raise \"ValueError\" exception\n",
        "    if (type(num) == int) and (num > 0):\n",
        "      return True\n",
        "    else:\n",
        "      print(\"Sample number must be an integer greater than 0.\")\n",
        "      return False\n",
        "  except ValueError:\n",
        "    print(\"Sample number must be an valid number.\")\n",
        "    return False\n",
        "\n",
        "# Definition of all the function loss\n",
        "def mae(pred, target):\n",
        "  return abs(pred - target)\n",
        "\n",
        "def mse(pred, target):\n",
        "  return (pred - target)**2\n",
        "\n",
        "# Main program\n",
        "num_samples = input(\"Enter the sample size (integer): \")\n",
        "\n",
        "if isnumeric(num_samples):\n",
        "  # Convert string to int for later usage\n",
        "  num_samples = int(num_samples)\n",
        "  # Ask user to choose loss function & validate\n",
        "  loss_name = input(\"Enter loss name (MAE, MSE or RMSE): \").upper()\n",
        "  if loss_name in [\"MAE\", \"MSE\", \"RMSE\"]:\n",
        "    sum = 0\n",
        "    # Start runing each loop\n",
        "    for i in range(num_samples):\n",
        "      # Generate pred and target\n",
        "      pred = random.uniform(0, 10)\n",
        "      target = random.uniform(0, 10)\n",
        "      # Process the loss value\n",
        "      if loss_name == \"MAE\":\n",
        "        loss = mae(pred, target)\n",
        "      elif (loss_name == \"MSE\") or (loss_name == \"RMSE\"):\n",
        "        loss = mse(pred, target)\n",
        "      sum = sum + loss\n",
        "      # Print out the result each loop\n",
        "      print(loss_name, i, \"pred:\", pred, \"target:\", target, \"loss:\", loss)\n",
        "    # Calculate the final loss\n",
        "    if (loss_name == \"MAE\") or (loss_name == \"MSE\"):\n",
        "      final_loss = sum / num_samples\n",
        "    elif loss_name == \"RMSE\":\n",
        "      final_loss = math.sqrt(sum / num_samples)\n",
        "    # Print out the final loss\n",
        "    print(\"Final\", loss_name, \"is:\", final_loss)\n",
        "  else:\n",
        "    print(\"Loss name is not supported.\")\n"
      ],
      "metadata": {
        "id": "Hy19p3tib6hm",
        "colab": {
          "base_uri": "https://localhost:8080/"
        },
        "outputId": "ba8f8f25-f9f5-4437-9450-05f48d5cbcbc"
      },
      "execution_count": 11,
      "outputs": [
        {
          "output_type": "stream",
          "name": "stdout",
          "text": [
            "Enter the sample size (integer): 5\n",
            "Enter loss name (MAE, MSE or RMSE): rmse\n",
            "RMSE 0 pred: 7.185585789052416 target: 2.417464863461513 loss: 22.734977161057852\n",
            "RMSE 1 pred: 4.013587898230476 target: 7.625818668871038 loss: 13.048211140362511\n",
            "RMSE 2 pred: 6.283247426055144 target: 9.955831955413405 loss: 13.487877125281639\n",
            "RMSE 3 pred: 9.32954495691122 target: 2.164937428884869 loss: 51.33160103065187\n",
            "RMSE 4 pred: 3.8559331725440926 target: 8.887442436973934 loss: 25.316085478043323\n",
            "Final RMSE is: 5.018341398019812\n"
          ]
        }
      ]
    },
    {
      "cell_type": "code",
      "execution_count": null,
      "metadata": {
        "id": "b55bBJFXZWlq"
      },
      "outputs": [],
      "source": []
    },
    {
      "cell_type": "markdown",
      "source": [
        "Câu tự luận 4"
      ],
      "metadata": {
        "id": "vwQZqh54Vg7R"
      }
    },
    {
      "cell_type": "code",
      "source": [
        "import math\n",
        "\n",
        "# Function to calculate the factorial number\n",
        "def factorial(n):\n",
        "  if n == 0:\n",
        "    return 1\n",
        "  else:\n",
        "    return n * factorial(n-1)\n",
        "\n",
        "# Function to calculate the sin(x)\n",
        "def approx_sin(x, n):\n",
        "  result = 0\n",
        "  sign = -1\n",
        "  for i in range(n+1):\n",
        "    sign *= -1\n",
        "    result += (sign * (x ** (2 * i + 1))) / factorial(2 * i + 1)\n",
        "  return result\n",
        "\n",
        "# Function to calculate the cos(x)\n",
        "def approx_cos(x, n):\n",
        "  result = 0\n",
        "  sign = -1\n",
        "  for i in range(n+1):\n",
        "    sign *= -1\n",
        "    result += (sign * (x ** (2 * i))) / factorial(2 * i)\n",
        "  return result\n",
        "\n",
        "# Function to calculate the sinh(x)\n",
        "def approx_sinh(x, n):\n",
        "  result = 0\n",
        "  for i in range(n+1):\n",
        "    result += (x ** (2 * i + 1)) / factorial(2 * i + 1)\n",
        "  return result\n",
        "\n",
        "# Function for cosh(x)\n",
        "def approx_cosh(x, n):\n",
        "  result = 0\n",
        "  for i in range(n+1):\n",
        "    result += (x ** (2 * i)) / factorial(2 * i)\n",
        "  return result\n",
        "\n",
        "# Main program\n",
        "print(approx_sin(x=3.14, n=10))\n",
        "print(approx_cos(x=3.14, n=10))\n",
        "print(approx_sinh(x=3.14, n=10))\n",
        "print(approx_cosh(x=3.14, n=10))"
      ],
      "metadata": {
        "colab": {
          "base_uri": "https://localhost:8080/"
        },
        "id": "RB7T9_lfVm3W",
        "outputId": "5e493135-c02d-455d-f2d8-4172fee8588b"
      },
      "execution_count": 60,
      "outputs": [
        {
          "output_type": "stream",
          "name": "stdout",
          "text": [
            "0.0015926529267151343\n",
            "-0.9999987316527259\n",
            "11.53029203039954\n",
            "11.573574828234543\n"
          ]
        }
      ]
    },
    {
      "cell_type": "markdown",
      "source": [
        "Câu tự luận 5"
      ],
      "metadata": {
        "id": "XOhC574pcAPg"
      }
    },
    {
      "cell_type": "code",
      "source": [
        "import math\n",
        "\n",
        "# Function to calculate the MD_nRE\n",
        "def md_nre_single_sample(y, y_hat, n, p):\n",
        "  return (y**(1/n) - y_hat**(1/n))**p\n",
        "\n",
        "# Main program\n",
        "print(md_nre_single_sample(y=100, y_hat=99.5, n=2, p=1))\n",
        "print(md_nre_single_sample(y=50, y_hat=49.5, n=2, p=1))\n",
        "print(md_nre_single_sample(y=20, y_hat=19.5, n=2, p=1))\n",
        "print(md_nre_single_sample(y=0.6, y_hat=0.1, n=2, p=1))"
      ],
      "metadata": {
        "colab": {
          "base_uri": "https://localhost:8080/"
        },
        "id": "KF-pPZHKb_1z",
        "outputId": "d2b6e681-1932-4bca-fdd8-e4472b12b6ae"
      },
      "execution_count": 59,
      "outputs": [
        {
          "output_type": "stream",
          "name": "stdout",
          "text": [
            "0.025031328369998107\n",
            "0.03544417213033135\n",
            "0.05625552183565574\n",
            "0.45836890322464546\n"
          ]
        }
      ]
    }
  ]
}