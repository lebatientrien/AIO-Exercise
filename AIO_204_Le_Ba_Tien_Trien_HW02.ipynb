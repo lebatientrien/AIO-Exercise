{
  "cells": [
    {
      "cell_type": "markdown",
      "metadata": {
        "id": "P3XRDImpaOOt"
      },
      "source": [
        "============================ TUẦN 2 =========================================="
      ]
    },
    {
      "cell_type": "markdown",
      "metadata": {
        "id": "NK1vl9K68yMq"
      },
      "source": [
        "Câu tự luận 1"
      ]
    },
    {
      "cell_type": "code",
      "execution_count": null,
      "metadata": {
        "colab": {
          "base_uri": "https://localhost:8080/"
        },
        "id": "UAWF4UA54uGA",
        "outputId": "4cac0781-a2e3-4d05-e4bd-d653117c35d9"
      },
      "outputs": [
        {
          "name": "stdout",
          "output_type": "stream",
          "text": [
            "[5, 5, 5, 5, 10, 12, 33, 33]\n"
          ]
        }
      ],
      "source": [
        "def max_kernel(num_list, k):\n",
        "  # Initialize result list\n",
        "  result = []\n",
        "  # Check and process the correct input\n",
        "  if (len(num_list) > k) and (k > 0):\n",
        "    # index i run from 0 to the length of the list - k\n",
        "    for i in range(len(num_list) - k + 1):\n",
        "      result.append(max(num_list[i:i+k]))\n",
        "    return result\n",
        "  # If input is not correct -> return warning\n",
        "  else:\n",
        "    return print('Error, please input correct List and number k')\n",
        "\n",
        "# MAIN PROGRAM\n",
        "input_list = [3, 4, 5, 1, -44, 5, 10, 12, 33, 1]\n",
        "k = 3\n",
        "print(max_kernel(input_list, k))"
      ]
    },
    {
      "cell_type": "markdown",
      "metadata": {
        "id": "c5sRhbdf807J"
      },
      "source": [
        "Câu tự luận 2"
      ]
    },
    {
      "cell_type": "code",
      "execution_count": null,
      "metadata": {
        "colab": {
          "base_uri": "https://localhost:8080/"
        },
        "id": "-ASR3qFM83W_",
        "outputId": "1b324b1a-5d66-4035-b2f5-e37811411fe7"
      },
      "outputs": [
        {
          "name": "stdout",
          "output_type": "stream",
          "text": [
            "{'s': 2, 'm': 1, 'i': 1, 'l': 1, 'e': 1}\n"
          ]
        }
      ],
      "source": [
        "def character_count(word):\n",
        "  # Initialize a dictionary to store the character counts\n",
        "  character_statistic = {}\n",
        "  # Iterate each character in the word\n",
        "  for char in word:\n",
        "    # Check if the character is in the dictionary\n",
        "    if char in character_statistic:\n",
        "      character_statistic[char] += 1\n",
        "    # If the character is not in the dictionary, add it with a count of 1\n",
        "    else:\n",
        "      character_statistic[char] = 1\n",
        "  return character_statistic\n",
        "\n",
        "# MAIN PROGRAM\n",
        "assert character_count (\"Baby\") == {'B': 1 , 'a': 1 , 'b': 1 , 'y': 1}\n",
        "print ( character_count ('smiles') )"
      ]
    },
    {
      "cell_type": "markdown",
      "metadata": {
        "id": "9Is6d2hgD14h"
      },
      "source": [
        "Câu tự luận 3"
      ]
    },
    {
      "cell_type": "code",
      "execution_count": null,
      "metadata": {
        "colab": {
          "base_uri": "https://localhost:8080/"
        },
        "id": "fqt6KgE6BmfZ",
        "outputId": "3122f66a-aa7a-4552-fb32-41141a12de74"
      },
      "outputs": [
        {
          "name": "stdout",
          "output_type": "stream",
          "text": [
            "Downloading...\n",
            "From: https://drive.google.com/uc?id=1IBScGdW2xlNsc9v5zSAya548kNgiOrko\n",
            "To: /content/P1_data.txt\n",
            "\r  0% 0.00/747 [00:00<?, ?B/s]\r100% 747/747 [00:00<00:00, 2.08MB/s]\n",
            "{'he': 1, 'who': 3, 'conquers': 1, 'himself': 1, 'is': 3, 'the': 5, 'mightiest': 1, 'warrior': 1, 'try': 2, 'not': 1, 'to': 3, 'become': 2, 'a': 7, 'man': 6, 'of': 4, 'success': 3, 'but': 1, 'rather': 1, 'value': 1, 'one': 4, 'with': 4, 'courage': 1, 'makes': 1, 'majority': 1, 'secret': 1, 'in': 4, 'life': 2, 'for': 3, 'be': 1, 'ready': 1, 'his': 2, 'opportunity': 1, 'when': 2, 'it': 2, 'comes': 2, 'successful': 2, 'will': 2, 'profit': 1, 'from': 1, 'mistakes': 1, 'and': 1, 'again': 1, 'different': 1, 'way': 1, 'can': 3, 'lay': 1, 'firm': 1, 'foundation': 1, 'bricks': 1, 'others': 1, 'have': 1, 'thrown': 1, 'at': 1, 'him': 1, 'usually': 1, 'those': 1, 'are': 1, 'too': 1, 'busy': 1, 'looking': 1, 'we': 3, 'cannot': 1, 'solve': 1, 'problems': 1, 'kind': 1, 'thinking': 1, 'employed': 1, 'came': 1, 'up': 1, 'them': 1, 'just': 2, 'small': 1, 'positive': 1, 'thought': 1, 'morning': 1, 'change': 1, 'your': 1, 'whole': 1, 'day': 1, 'you': 3, 'get': 2, 'everything': 1, 'want': 2, 'if': 1, 'help': 1, 'enough': 1, 'other': 1, 'people': 1, 'what': 1, 'they': 1}\n",
            "6\n"
          ]
        }
      ],
      "source": [
        "!gdown https://drive.google.com/uc?id=1IBScGdW2xlNsc9v5zSAya548kNgiOrko\n",
        "file_path = '/content/P1_data.txt'\n",
        "\n",
        "def word_count(file_path):\n",
        "  # Initialize an empty dictionary to store the counts\n",
        "  counter = {}\n",
        "  # Open and read the file\n",
        "  with open(file_path, 'r') as file:\n",
        "    # Read the content of the file\n",
        "    content = file.read()\n",
        "    # Split the text into list of words\n",
        "    list_words = content.split()\n",
        "    # Iterate over each character in the list of words\n",
        "    for word in list_words:\n",
        "      # Convert word into lowercase\n",
        "      word = word.lower()\n",
        "      # Check if the word is in the dictionary\n",
        "      if word in counter:\n",
        "        counter[word] += 1\n",
        "      else:\n",
        "        counter[word] = 1\n",
        "  return counter\n",
        "\n",
        "# MAIN PROGRAM\n",
        "print(word_count(file_path))\n",
        "\n",
        "file_path = '/content/P1_data.txt'\n",
        "result = word_count( file_path )\n",
        "assert result ['who'] == 3\n",
        "print ( result ['man'])"
      ]
    },
    {
      "cell_type": "markdown",
      "metadata": {
        "id": "ZjbIZSJkJTz4"
      },
      "source": [
        "Câu tự luận 4"
      ]
    },
    {
      "cell_type": "code",
      "execution_count": 25,
      "metadata": {
        "colab": {
          "base_uri": "https://localhost:8080/"
        },
        "id": "qb6mokthL2sO",
        "outputId": "78c188f6-9577-474e-901d-38a8d75b6965"
      },
      "outputs": [
        {
          "name": "stdout",
          "output_type": "stream",
          "text": [
            "[0, 1, 2, 3, 4, 5, 6, 7]\n",
            "[1, 1, 2, 3, 4, 5, 6, 7]\n",
            "[2, 2, 1, 2, 3, 4, 5, 6]\n",
            "[3, 3, 2, 1, 2, 3, 4, 5]\n",
            "[4, 4, 3, 2, 1, 2, 3, 4]\n",
            "[5, 5, 4, 3, 2, 2, 3, 4]\n",
            "[6, 6, 5, 4, 3, 3, 2, 3]\n",
            "Levenshtein distance 'kitten' and 'sitting' is 3\n"
          ]
        }
      ],
      "source": [
        "from os import confstr_names\n",
        "def levenshtein_distance(source_string, target_string):\n",
        "  len_source = len(source_string)\n",
        "  len_target = len(target_string)\n",
        "\n",
        "  # Step 1: Initialize the 2D matrix cover all dimension of 2 string\n",
        "  matrix = [[0 for _ in range(len_target + 1)] for _ in range(len_source + 1)]\n",
        "\n",
        "  # Step 2: Initialize the first row and first column of the matrix\n",
        "  for i in range(len_source + 1):\n",
        "    matrix[i][0] = i\n",
        "  for j in range(len_target + 1):\n",
        "    matrix[0][j] = j\n",
        "\n",
        "  # Step 3: Fill the value\n",
        "  # Loop: Fill the row (source):\n",
        "  for i in range(1, len_source + 1):\n",
        "    # Loop: Fill the column (target):\n",
        "    for j in range(1, len_target + 1):\n",
        "      # Check character from source and target matching -> calculate Cost\n",
        "      if source_string[i-1] == target_string[j-1]:\n",
        "        cost = 0\n",
        "      else:\n",
        "        cost = 1\n",
        "      # Add the Minimum value to the matrix\n",
        "      matrix[i][j] = min(matrix[i-1][j] + 1,\n",
        "                         matrix[i][j-1] + 1,\n",
        "                         matrix[i-1][j-1] + cost)\n",
        "  # Use for Debug <=======\n",
        "  for i in range(len_source+1):\n",
        "    print(matrix[i])\n",
        "\n",
        "  return matrix[len_source][len_target]\n",
        "\n",
        "# MAIN PROGRAM\n",
        "s1 = \"kitten\"\n",
        "s2 = \"sitting\"\n",
        "distance = levenshtein_distance(s1, s2)\n",
        "print(f\"Levenshtein distance '{s1}' and '{s2}' is {distance}\")\n",
        "\n",
        "# assert levenshtein_distance (\"hi\", \"hello\") == 4.0\n",
        "# print ( levenshtein_distance (\"hola\", \"hello\") )"
      ]
    },
    {
      "cell_type": "code",
      "execution_count": null,
      "metadata": {
        "id": "_dcIATDxPAps"
      },
      "outputs": [],
      "source": []
    }
  ],
  "metadata": {
    "colab": {
      "provenance": []
    },
    "kernelspec": {
      "display_name": "Python 3",
      "name": "python3"
    },
    "language_info": {
      "name": "python"
    }
  },
  "nbformat": 4,
  "nbformat_minor": 0
}
